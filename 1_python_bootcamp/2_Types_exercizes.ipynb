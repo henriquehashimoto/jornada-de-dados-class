{
 "cells": [
  {
   "cell_type": "markdown",
   "metadata": {},
   "source": [
    "## Exercício 21: Conversor de Temperatura\n",
    "\n",
    "- Escreva um programa que converta a temperatura de Celsius para Fahrenheit. \n",
    "- O programa deve solicitar ao usuário a temperatura em Celsius e, utilizando try-except, garantir que a entrada seja numérica, tratando qualquer ValueError. \n",
    "- Imprima o resultado em Fahrenheit ou uma mensagem de erro se a entrada não for válida."
   ]
  },
  {
   "cell_type": "code",
   "execution_count": 8,
   "metadata": {},
   "outputs": [
    {
     "name": "stdout",
     "output_type": "stream",
     "text": [
      "Error: could not convert string to float: '22e'\n"
     ]
    }
   ],
   "source": [
    "celsius = '22e'\n",
    "\n",
    "try:\n",
    "    fahrenheit = (float(celsius) * 1.8) + 32\n",
    "    print(fahrenheit)\n",
    "except ValueError as e:\n",
    "    print(f\"Error: {e}\")\n"
   ]
  },
  {
   "cell_type": "markdown",
   "metadata": {},
   "source": [
    "<br></br>\n",
    "## Exercício 22: Verificador de Palíndromo\n",
    "\n",
    "- Crie um programa que verifica se uma palavra ou frase é um palíndromo (lê-se igualmente de trás para frente, desconsiderando espaços e pontuações). \n",
    "- Utilize try-except para garantir que a entrada seja uma string. \n",
    "- Dica: Utilize a função isinstance() para verificar o tipo da entrada."
   ]
  },
  {
   "cell_type": "code",
   "execution_count": 18,
   "metadata": {},
   "outputs": [
    {
     "name": "stdout",
     "output_type": "stream",
     "text": [
      "The variable is NOT as palindrome\n"
     ]
    }
   ],
   "source": [
    "\n",
    "variavel = '123'\n",
    "\n",
    "\n",
    "if isinstance(variavel, str):\n",
    "    variavel = variavel.lower().replace(\" \",\"\")\n",
    "    if variavel == variavel[::-1]:\n",
    "        print(\"The variable is a palindrome\")\n",
    "    else:\n",
    "        print(\"The variable is NOT as palindrome\")\n",
    "else:\n",
    "    print(\"ERROR: Verify if the variable is a string\")\n"
   ]
  }
 ],
 "metadata": {
  "kernelspec": {
   "display_name": "Python 3",
   "language": "python",
   "name": "python3"
  },
  "language_info": {
   "codemirror_mode": {
    "name": "ipython",
    "version": 3
   },
   "file_extension": ".py",
   "mimetype": "text/x-python",
   "name": "python",
   "nbconvert_exporter": "python",
   "pygments_lexer": "ipython3",
   "version": "3.12.5"
  }
 },
 "nbformat": 4,
 "nbformat_minor": 2
}
