{
 "cells": [
  {
   "cell_type": "code",
   "execution_count": 1,
   "metadata": {},
   "outputs": [],
   "source": [
    "import pandas as pd"
   ]
  },
  {
   "cell_type": "code",
   "execution_count": 14,
   "metadata": {},
   "outputs": [],
   "source": [
    "# Creating a class \n",
    "class read_csv:\n",
    "    \n",
    "    # Initiating with the parameters that will pass to all functions\n",
    "    def __init__(self, file_path:str):\n",
    "        self.file_path = file_path\n",
    "        self.df = None\n",
    "    \n",
    "    # Reding file\n",
    "    def load_csv(self):\n",
    "        self.df = pd.read_csv(self.file_path)\n",
    "    \n",
    "    #  Return filtered df \n",
    "    def filter_df(self, column, attribute):\n",
    "        return self.df[self.df[column] == attribute]"
   ]
  },
  {
   "cell_type": "code",
   "execution_count": 20,
   "metadata": {},
   "outputs": [
    {
     "name": "stdout",
     "output_type": "stream",
     "text": [
      "None\n"
     ]
    }
   ],
   "source": [
    "file = \"data/cities_sales.csv\"\n",
    "columna = 'cidade'\n",
    "atributo = 'Salvador'\n",
    "    \n",
    "df_csv = read_csv(file_path=file)\n",
    "df_csv = df_csv.load_csv()\n",
    "\n",
    "print(df_csv)\n"
   ]
  }
 ],
 "metadata": {
  "kernelspec": {
   "display_name": ".venv",
   "language": "python",
   "name": "python3"
  },
  "language_info": {
   "codemirror_mode": {
    "name": "ipython",
    "version": 3
   },
   "file_extension": ".py",
   "mimetype": "text/x-python",
   "name": "python",
   "nbconvert_exporter": "python",
   "pygments_lexer": "ipython3",
   "version": "3.11.9"
  }
 },
 "nbformat": 4,
 "nbformat_minor": 2
}
