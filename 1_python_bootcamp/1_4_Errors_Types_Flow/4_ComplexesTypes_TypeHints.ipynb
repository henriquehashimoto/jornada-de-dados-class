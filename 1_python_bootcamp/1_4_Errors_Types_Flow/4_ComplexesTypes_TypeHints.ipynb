{
 "cells": [
  {
   "cell_type": "code",
   "execution_count": 5,
   "metadata": {},
   "outputs": [],
   "source": [
    "import json"
   ]
  },
  {
   "cell_type": "code",
   "execution_count": null,
   "metadata": {},
   "outputs": [],
   "source": [
    "# Type Hint - \"Forçar\" tipo da varíavel; uma dica \n",
    "\n",
    "idade: int = 30\n",
    "altura: float = 1.65\n",
    "nome: str = \"henrique\"\n",
    "is_estudante: bool = True\n",
    "\n"
   ]
  },
  {
   "cell_type": "markdown",
   "metadata": {},
   "source": [
    "## Refatorando código com tipagem"
   ]
  },
  {
   "cell_type": "code",
   "execution_count": 3,
   "metadata": {},
   "outputs": [
    {
     "name": "stdout",
     "output_type": "stream",
     "text": [
      "Nome válido: henrique\n",
      "henrique, seu salário é R$10000.00 e seu bônus final é R$15000.00.\n"
     ]
    }
   ],
   "source": [
    "nome_valido:bool = False\n",
    "salario_valido:bool = False\n",
    "bonus_valido:bool = False\n",
    "\n",
    "while not nome_valido:\n",
    "    try:\n",
    "        nome:str = input(\"Digite seu nome: \")\n",
    "\n",
    "        # Verifica se o nome está vazio\n",
    "        if len(nome) == 0:\n",
    "            raise ValueError(\"O nome não pode estar vazio.\")\n",
    "        # Verifica se há números no nome\n",
    "        elif any(char.isdigit() for char in nome):\n",
    "            raise ValueError(\"O nome não deve conter números.\")\n",
    "        else:\n",
    "            print(\"Nome válido:\", nome)\n",
    "            nome_valido = True\n",
    "    except ValueError as e:\n",
    "        print(e)\n",
    "\n",
    "# Solicita ao usuário que digite o valor do seu salário e converte para float\n",
    "\n",
    "try:\n",
    "    salario:float = float(input(\"Digite o valor do seu salário: \"))\n",
    "    if salario < 0:\n",
    "        print(\"Por favor, digite um valor positivo para o salário.\")\n",
    "except ValueError:\n",
    "    print(\"Entrada inválida para o salário. Por favor, digite um número.\")\n",
    "    exit()\n",
    "\n",
    "# Solicita ao usuário que digite o valor do bônus recebido e converte para float\n",
    "try:\n",
    "    bonus:float = float(input(\"Digite o valor do bônus recebido: \"))\n",
    "    if bonus < 0:\n",
    "        print(\"Por favor, digite um valor positivo para o bônus.\")\n",
    "except ValueError:\n",
    "    print(\"Entrada inválida para o bônus. Por favor, digite um número.\")\n",
    "    exit()\n",
    "\n",
    "bonus_recebido:float = 1000 + salario * bonus  # Exemplo simples de KPI\n",
    "\n",
    "# Imprime as informações para o usuário\n",
    "print(f\"{nome}, seu salário é R${salario:.2f} e seu bônus final é R${bonus_recebido:.2f}.\")"
   ]
  },
  {
   "cell_type": "markdown",
   "metadata": {},
   "source": [
    "<br></br> \n",
    "# Tipos de dados complexos"
   ]
  },
  {
   "cell_type": "code",
   "execution_count": 4,
   "metadata": {},
   "outputs": [
    {
     "data": {
      "text/plain": [
       "['camisa']"
      ]
     },
     "execution_count": 4,
     "metadata": {},
     "output_type": "execute_result"
    }
   ],
   "source": [
    "# LISTAS\n",
    "\n",
    "prod = 'tenis'\n",
    "prod_2 = 'camisa'\n",
    "prod_3 = 'calça'\n",
    "\n",
    "produtos: list = []\n",
    "\n",
    "# Inserindo dados na lista\n",
    "produtos.append(prod)\n",
    "produtos.append(prod_2)\n",
    "produtos.append(prod_3)\n",
    "\n",
    "# Removendo o ultimo item da lista - MAIS RAPIDO\n",
    "produtos.pop()\n",
    "\n",
    "# Removendo valor especifico - MAIS LENTO\n",
    "produtos.remove(prod)\n",
    "\n",
    "produtos"
   ]
  },
  {
   "cell_type": "code",
   "execution_count": 6,
   "metadata": {},
   "outputs": [
    {
     "name": "stdout",
     "output_type": "stream",
     "text": [
      "[{\"nome\": \"sapato\", \"quantidade\": 39, \"preco\": 150.02, \"disponibilidade\": true}, {\"nome\": \"TV\", \"quantidade\": 19, \"preco\": 1529.02, \"disponibilidade\": false}]\n"
     ]
    }
   ],
   "source": [
    "# Dicionarios\n",
    "\n",
    "produto_01 = {\n",
    "    \"nome\":\"sapato\",\n",
    "    \"quantidade\":39,\n",
    "    \"preco\": 150.02,\n",
    "    \"disponibilidade\":True\n",
    "}\n",
    "produto_02 = {\n",
    "    \"nome\":\"TV\",\n",
    "    \"quantidade\":19,\n",
    "    \"preco\": 1529.02,\n",
    "    \"disponibilidade\":False\n",
    "}\n",
    "\n",
    "\n",
    "# Lista de dicionarios\n",
    "carrinho = []\n",
    "carrinho.append(produto_01)\n",
    "carrinho.append(produto_02)\n",
    "\n",
    "# Transformando no formato de json\n",
    "carrinho_json = json.dumps(carrinho)\n",
    "print(carrinho_json)"
   ]
  },
  {
   "cell_type": "markdown",
   "metadata": {},
   "source": [
    "### Exercicios"
   ]
  },
  {
   "cell_type": "code",
   "execution_count": 13,
   "metadata": {},
   "outputs": [
    {
     "data": {
      "text/plain": [
       "{'titulo': 'ABA', 'Autor': 'Edu Spohr', 'Ano': 2010}"
      ]
     },
     "execution_count": 13,
     "metadata": {},
     "output_type": "execute_result"
    }
   ],
   "source": [
    "# Para armazenar informações de um livro, incluindo título, autor e ano de publicação. \n",
    "# Imprima cada informação.\n",
    "\n",
    "# Para poder tipar um dicionario\n",
    "from typing import Dict, Any\n",
    "\n",
    "livro: Dict[str, Any] = {\n",
    "    \"titulo\": \"Game of throne\",\n",
    "    \"Autor\": \"George RR Martin\",\n",
    "    \"Ano\": 2002\n",
    "}\n",
    "\n",
    "livro_2: Dict[str, Any] = {\n",
    "    \"titulo\": \"ABA\",\n",
    "    \"Autor\": \"Edu Spohr\",\n",
    "    \"Ano\": 2010\n",
    "}\n",
    "\n",
    "# Lista de dicionarios\n",
    "lista_livros: list = []\n",
    "lista_livros.append(livro)\n",
    "lista_livros.append(livro_2)\n",
    "\n",
    "\n",
    "#------------------------\n",
    "# Criando lista com dicionario, acessar dicionario\n",
    "#------------------------\n",
    "lista_dict_livros: dict = {\n",
    "    \"livro_1\": {\n",
    "        \"titulo\": \"Game of throne\",\n",
    "        \"Autor\": \"George RR Martin\",\n",
    "        \"Ano\": 2002\n",
    "    },\n",
    "    \"livro_2\": {\n",
    "        \"titulo\": \"ABA\",\n",
    "        \"Autor\": \"Edu Spohr\",\n",
    "        \"Ano\": 2010\n",
    "    }\n",
    "}\n",
    "lista_dict_livros[\"livro_2\"]#[\"Ano\"]"
   ]
  },
  {
   "cell_type": "code",
   "execution_count": null,
   "metadata": {},
   "outputs": [],
   "source": []
  }
 ],
 "metadata": {
  "kernelspec": {
   "display_name": "Python 3",
   "language": "python",
   "name": "python3"
  },
  "language_info": {
   "codemirror_mode": {
    "name": "ipython",
    "version": 3
   },
   "file_extension": ".py",
   "mimetype": "text/x-python",
   "name": "python",
   "nbconvert_exporter": "python",
   "pygments_lexer": "ipython3",
   "version": "3.12.5"
  }
 },
 "nbformat": 4,
 "nbformat_minor": 2
}
